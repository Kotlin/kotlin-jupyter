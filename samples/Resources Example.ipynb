{
 "cells": [
  {
   "cell_type": "code",
   "execution_count": 1,
   "metadata": {},
   "outputs": [
    {
     "data": {
      "text/html": [
       "            <div id=\"kotlin_out_0\"/>\n",
       "            <script type=\"text/javascript\">\n",
       "                            if(!window.kotlinQueues) {\n",
       "                window.kotlinQueues = {};\n",
       "            }\n",
       "            if(!window.kotlinQueues.Lib) {\n",
       "                var resQueue = [];\n",
       "                window.kotlinQueues.Lib = resQueue;\n",
       "                window.call_Lib = function(f) {\n",
       "                    resQueue.push(f);\n",
       "                }\n",
       "            }\n",
       "            (function (){\n",
       "                var modifiers = [(function(script) {\n",
       "    script.src = \"https://cdn.plot.ly/plotly-latest.min.js\"\n",
       "}),\n",
       "(function(script) {\n",
       "    script.textContent = \"function test_fun(x) {\\n    console.log(\\\"var\\\" + x)\\n}\\n\"\n",
       "})]\n",
       "                var e = document.getElementById(\"kotlin_out_0\");\n",
       "                modifiers.forEach(function (gen) {\n",
       "                    var script = document.createElement(\"script\");\n",
       "                    gen(script)\n",
       "                    script.type = \"text/javascript\";\n",
       "                    script.onload = function() {\n",
       "                        window.call_Lib = function(f) {f();};\n",
       "                        window.kotlinQueues.Lib.forEach(function(f) {f();});\n",
       "                        window.kotlinQueues.Lib = [];\n",
       "                    };\n",
       "                    script.onerror = function() {\n",
       "                        window.call_Lib = function(f) {};\n",
       "                        window.kotlinQueues.Lib = [];\n",
       "                        var div = document.createElement(\"div\");\n",
       "                        div.style.color = 'darkred';\n",
       "                        div.textContent = 'Error loading resource Lib';\n",
       "                        document.getElementById(\"kotlin_out_0\").appendChild(div);\n",
       "                    };\n",
       "                    \n",
       "                    e.appendChild(script);\n",
       "                })\n",
       "            })()\n",
       "            </script>"
      ]
     },
     "metadata": {},
     "output_type": "display_data"
    }
   ],
   "source": [
    "%use @file[../src/test/testData/lib-with-resources.json](currentDir=\"..\")"
   ]
  },
  {
   "cell_type": "code",
   "execution_count": 2,
   "metadata": {},
   "outputs": [
    {
     "data": {
      "text/html": [
       "\n",
       "<script>\n",
       "call_Lib(function() {test_fun(42);})\n",
       "</script>\n"
      ]
     },
     "execution_count": 2,
     "metadata": {},
     "output_type": "execute_result"
    }
   ],
   "source": [
    "HTML(\"\"\"\n",
    "<script>\n",
    "call_Lib(function() {test_fun(42);})\n",
    "</script>\n",
    "\"\"\")"
   ]
  },
  {
   "cell_type": "code",
   "execution_count": null,
   "metadata": {},
   "outputs": [],
   "source": []
  }
 ],
 "metadata": {
  "kernelspec": {
   "display_name": "Kotlin",
   "language": "kotlin",
   "name": "kotlin"
  },
  "language_info": {
   "codemirror_mode": "text/x-kotlin",
   "file_extension": ".kt",
   "mimetype": "text/x-kotlin",
   "name": "kotlin",
   "nbconvert_exporter": "",
   "pygments_lexer": "kotlin",
   "version": "1.5.0-dev-1206"
  }
 },
 "nbformat": 4,
 "nbformat_minor": 4
}
