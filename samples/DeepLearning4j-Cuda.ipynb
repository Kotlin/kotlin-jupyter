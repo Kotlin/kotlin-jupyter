{
 "cells": [
  {
   "cell_type": "markdown",
   "metadata": {},
   "source": [
    "## Handwriting classification\n",
    "\n",
    "<img src=\"data:image/png;base64,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\" alt=\"MNIST Digits\" style=\"float: right; display: inline-block; margin-left: 12px; margin-bottom: 12px\">\n",
    "\n",
    "In this sample, you will create a deep neural network using Deeplearning4j and train a model capable of classifying random handwriting digits. \n",
    "\n",
    "This example use the [MNIST](https://en.wikipedia.org/wiki/MNIST_database) dataset.\n",
    "\n",
    "This sample is written in Kotlin, a Java-based language that is well suited for notebooks like this one.\n",
    "\n",
    "### What you will learn\n",
    "\n",
    "1. Load a dataset for a neural network.\n",
    "2. Format EMNIST for image recognition.\n",
    "3. Create a deep neural network.\n",
    "4. Train a model.\n",
    "5. Evaluate the performance of your model."
   ]
  },
  {
   "cell_type": "code",
   "execution_count": 1,
   "metadata": {},
   "outputs": [],
   "source": [
    "%use deeplearning4j-cuda(cuda=10.2)"
   ]
  },
  {
   "cell_type": "code",
   "execution_count": 2,
   "metadata": {},
   "outputs": [],
   "source": [
    "//number of rows and columns in the input pictures\n",
    "val numRows = 28\n",
    "val numColumns = 28\n",
    "val outputNum = 10 // number of output classes\n",
    "val batchSize = 64 // batch size for each epoch\n",
    "val rngSeed = 123 // random number seed for reproducibility\n",
    "val numEpochs = 5 // number of epochs to perform\n",
    "val rate = 0.0015 // learning rate"
   ]
  },
  {
   "cell_type": "code",
   "execution_count": 3,
   "metadata": {},
   "outputs": [],
   "source": [
    "import org.deeplearning4j.datasets.iterator.impl.MnistDataSetIterator\n",
    "\n",
    "//Get the DataSetIterators:\n",
    "val mnistTrain = MnistDataSetIterator(batchSize, true, rngSeed)\n",
    "val mnistTest = MnistDataSetIterator(batchSize, false, rngSeed)"
   ]
  },
  {
   "cell_type": "code",
   "execution_count": 4,
   "metadata": {},
   "outputs": [
    {
     "name": "stdout",
     "output_type": "stream",
     "text": [
      "\n",
      "=======================================================================\n",
      "LayerName (LayerType)   nIn,nOut   TotalParams   ParamsShape           \n",
      "=======================================================================\n",
      "layer0 (DenseLayer)     784,500    392 500       W:{784,500}, b:{1,500}\n",
      "layer1 (DenseLayer)     500,100    50 100        W:{500,100}, b:{1,100}\n",
      "layer2 (OutputLayer)    100,10     1 010         W:{100,10}, b:{1,10}  \n",
      "-----------------------------------------------------------------------\n",
      "            Total Parameters:  443 610\n",
      "        Trainable Parameters:  443 610\n",
      "           Frozen Parameters:  0\n",
      "=======================================================================\n",
      "\n"
     ]
    }
   ],
   "source": [
    "import org.nd4j.linalg.learning.config.Nesterovs\n",
    "import org.nd4j.linalg.lossfunctions.LossFunctions.LossFunction\n",
    "import org.nd4j.linalg.activations.Activation\n",
    "\n",
    "val conf = NeuralNetConfiguration.Builder()\n",
    "        .seed(rngSeed.toLong()) //include a random seed for reproducibility\n",
    "         // use stochastic gradient descent as an optimization algorithm\n",
    "\n",
    "        .activation(Activation.RELU)\n",
    "        .weightInit(WeightInit.XAVIER)\n",
    "        .updater(Nesterovs(rate, 0.98)) //specify the rate of change of the learning rate.\n",
    "        .l2(rate * 0.005) // regularize learning model\n",
    "        .list()\n",
    "        .layer(DenseLayer.Builder() //create the first input layer.\n",
    "                .nIn(numRows * numColumns)\n",
    "                .nOut(500)\n",
    "                .build())\n",
    "        .layer(DenseLayer.Builder() //create the second input layer\n",
    "                .nIn(500)\n",
    "                .nOut(100)\n",
    "                .build())\n",
    "        .layer(OutputLayer.Builder(LossFunction.NEGATIVELOGLIKELIHOOD) //create hidden layer\n",
    "                .activation(Activation.SOFTMAX)\n",
    "                .nIn(100)\n",
    "                .nOut(outputNum)\n",
    "                .build())\n",
    "        .build()\n",
    "        \n",
    "val model = MultiLayerNetwork(conf)\n",
    "model.init()\n",
    "println(model.summary())"
   ]
  },
  {
   "cell_type": "markdown",
   "metadata": {},
   "source": [
    "### Launching Deeplearning4j UI"
   ]
  },
  {
   "cell_type": "code",
   "execution_count": 5,
   "metadata": {},
   "outputs": [],
   "source": [
    "import org.deeplearning4j.ui.api.UIServer\n",
    "import org.deeplearning4j.optimize.listeners.ScoreIterationListener\n",
    "import org.deeplearning4j.api.storage.StatsStorageRouter\n",
    "import org.deeplearning4j.api.storage.impl.RemoteUIStatsStorageRouter\n",
    "import org.deeplearning4j.ui.stats.StatsListener\n",
    "\n",
    "val uiServer: UIServer = UIServer.getInstance()\n",
    "uiServer.enableRemoteListener()\n",
    "//Create the remote stats storage router - this sends the results to the UI via HTTP, assuming the UI is at http://localhost:9000\n",
    "val remoteUIRouter: StatsStorageRouter = RemoteUIStatsStorageRouter(\"http://localhost:9000\")\n",
    "model.setListeners(ScoreIterationListener(100), StatsListener(remoteUIRouter))"
   ]
  },
  {
   "cell_type": "markdown",
   "metadata": {},
   "source": [
    "open a new tab in your browser and go to [http://localhost:9000](http://localhost:9000)"
   ]
  },
  {
   "cell_type": "markdown",
   "metadata": {},
   "source": [
    "### Train model"
   ]
  },
  {
   "cell_type": "code",
   "execution_count": 6,
   "metadata": {},
   "outputs": [],
   "source": [
    "model.fit(mnistTrain, numEpochs)"
   ]
  },
  {
   "cell_type": "markdown",
   "metadata": {},
   "source": [
    "### Evaluate model"
   ]
  },
  {
   "cell_type": "code",
   "execution_count": 7,
   "metadata": {},
   "outputs": [
    {
     "name": "stdout",
     "output_type": "stream",
     "text": [
      "\n",
      "\n",
      "========================Evaluation Metrics========================\n",
      " # of classes:    10\n",
      " Accuracy:        0,9718\n",
      " Precision:       0,9722\n",
      " Recall:          0,9711\n",
      " F1 Score:        0,9714\n",
      "Precision, recall & F1: macro-averaged (equally weighted avg. of 10 classes)\n",
      "\n",
      "\n",
      "=========================Confusion Matrix=========================\n",
      "    0    1    2    3    4    5    6    7    8    9\n",
      "---------------------------------------------------\n",
      "  967    0    0    1    1    0    4    2    2    3 | 0 = 0\n",
      "    0 1123    2    1    0    0    5    1    3    0 | 1 = 1\n",
      "    4    3  995    0    2    0    4   14   10    0 | 2 = 2\n",
      "    0    1    2  988    0    1    0   10    6    2 | 3 = 3\n",
      "    3    0    0    0  956    0    6    4    0   13 | 4 = 4\n",
      "    7    1    0   19    2  825   20    1   11    6 | 5 = 5\n",
      "    6    3    0    0    4    1  943    1    0    0 | 6 = 6\n",
      "    0    8    5    2    0    0    0 1010    1    2 | 7 = 7\n",
      "    5    0    2    6    4    1    8    7  937    4 | 8 = 8\n",
      "    3    6    1    6   10    0    2    6    1  974 | 9 = 9\n",
      "\n",
      "Confusion matrix format: Actual (rowClass) predicted as (columnClass) N times\n",
      "==================================================================\n"
     ]
    }
   ],
   "source": [
    "val eval: org.nd4j.evaluation.classification.Evaluation = model.evaluate(mnistTest)\n",
    "println(eval.stats())"
   ]
  },
  {
   "cell_type": "markdown",
   "metadata": {},
   "source": [
    "To stop the UI:"
   ]
  },
  {
   "cell_type": "code",
   "execution_count": 8,
   "metadata": {},
   "outputs": [],
   "source": [
    "uiServer.stop()"
   ]
  }
 ],
 "metadata": {
  "kernelspec": {
   "display_name": "Kotlin",
   "language": "kotlin",
   "name": "kotlin"
  },
  "language_info": {
   "codemirror_mode": "text/x-kotlin",
   "file_extension": ".kt",
   "mimetype": "text/x-kotlin",
   "name": "kotlin",
   "pygments_lexer": "kotlin",
   "version": "1.4.0-dev-7568"
  }
 },
 "nbformat": 4,
 "nbformat_minor": 2
}
